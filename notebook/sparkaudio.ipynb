{
 "cells": [
  {
   "cell_type": "code",
   "execution_count": 89,
   "id": "5dc4ca1f-d3a7-4408-a082-89d701cf302b",
   "metadata": {},
   "outputs": [
    {
     "name": "stdout",
     "output_type": "stream",
     "text": [
      "\n",
      "Processing: .ipynb_checkpoints\n",
      "\n",
      "Processing: wav\n"
     ]
    }
   ],
   "source": [
    "import os\n",
    "DATASET_PATH = \"/mnt/10ac-batch-4/all-data/benkart/AMHARIC/test/\"\n",
    "SAMPLE_RATE = 22050\n",
    "labels=[]\n",
    "def preprocess(dataset_path):\n",
    "    # dictionary to store files\n",
    "    \n",
    "    # loop through all sub-folders\n",
    "    for i, (dirpath, dirnames, filenames) in enumerate(os.walk(dataset_path)):\n",
    "\n",
    "        # ensure we're processing at sub-folder level\n",
    "        if dirpath is not dataset_path:\n",
    "\n",
    "            # save label (i.e., sub-folder name) in the mapping eg SWH-05-20101106\n",
    "            label = dirpath.split(\"/\")[-1]\n",
    "           \n",
    "            print(\"\\nProcessing: {}\".format(label))\n",
    "\n",
    "            # process all audio files in genre sub-dir\n",
    "            for f in filenames:\n",
    "\n",
    "\t\t        # load audio file\n",
    "                filename=\"wav/\"+label+\"/\"+f\n",
    "                labels.append(filename)\n",
    "                 \n",
    "if __name__ == \"__main__\":\n",
    "    preprocess(DATASET_PATH)"
   ]
  },
  {
   "cell_type": "code",
   "execution_count": 90,
   "id": "25d1b021-22ca-4f6a-8c53-0edbfc4af5bb",
   "metadata": {},
   "outputs": [
    {
     "data": {
      "text/plain": [
       "10"
      ]
     },
     "execution_count": 90,
     "metadata": {},
     "output_type": "execute_result"
    }
   ],
   "source": [
    "len(labels)\n"
   ]
  },
  {
   "cell_type": "code",
   "execution_count": 6,
   "id": "2a0439f6-8a82-44a4-b907-b9be92b8bf3e",
   "metadata": {},
   "outputs": [],
   "source": [
    "import logging\n",
    "import boto3\n",
    "from botocore.exceptions import ClientError\n",
    "import os"
   ]
  },
  {
   "cell_type": "code",
   "execution_count": 7,
   "id": "0f9a6ce9-382c-455d-8481-4fc5eac9a121",
   "metadata": {},
   "outputs": [],
   "source": [
    "def upload_file(file_name: str, bucket: str, object_name=None):\n",
    "    \"\"\"Upload a file to an S3 bucket\n",
    "    :param file_name: File to upload\n",
    "    :param bucket: Bucket to upload to\n",
    "    :param object_name: S3 object name. If not specified then file_name is used\n",
    "    :return: True if file was uploaded, else False\n",
    "    \"\"\"\n",
    "\n",
    "    # If S3 object_name was not specified, use file_name\n",
    "    if object_name is None:\n",
    "        object_name = os.path.basename(file_name)\n",
    "\n",
    "    # Upload the file\n",
    "    s3_client = boto3.client('s3')\n",
    "    try:\n",
    "        response = s3_client.upload_file(file_name, bucket, object_name)\n",
    "    except ClientError as e:\n",
    "        logging.error(e)\n",
    "        return False\n",
    "    return True"
   ]
  },
  {
   "cell_type": "code",
   "execution_count": null,
   "id": "2600d178-3453-4039-95e3-958e3886da47",
   "metadata": {},
   "outputs": [],
   "source": [
    "upload_file('example.txt', 'benkart-bucket')\n"
   ]
  },
  {
   "cell_type": "code",
   "execution_count": 7,
   "id": "5f57e2ae-9e34-4bb0-a842-747aabe395ab",
   "metadata": {},
   "outputs": [],
   "source": [
    "import os\n",
    "def load_data(dataset_path):\n",
    "        print(\"Loading the audio files\")\n",
    "        labels=[]\n",
    "        # dictionary to store files\n",
    "    \n",
    "        # loop through all sub-folders\n",
    "        for i, (dirpath, dirnames, filenames) in enumerate(os.walk(dataset_path)):\n",
    "\n",
    "            # ensure we're processing at sub-folder level\n",
    "            if dirpath is not dataset_path:\n",
    "\n",
    "                # save label (i.e., sub-folder name) in the mapping \n",
    "                label = dirpath#.split(\"/\")[-1]\n",
    "\n",
    "                # process all audio files in the sub-directory\n",
    "                for f in filenames:\n",
    "\n",
    "                    # load audio file\n",
    "                    filename=label+\"/\"+f\n",
    "                    labels.append(filename)\n",
    "        return labels"
   ]
  },
  {
   "cell_type": "code",
   "execution_count": 83,
   "id": "297fab46-508e-487a-91af-b615bafa784d",
   "metadata": {},
   "outputs": [
    {
     "name": "stdout",
     "output_type": "stream",
     "text": [
      "Loading the audio files\n"
     ]
    },
    {
     "data": {
      "text/plain": [
       "['/mnt/10ac-batch-4/all-data/benkart/AMHARIC/test/wav/01_d501021.wav',\n",
       " '/mnt/10ac-batch-4/all-data/benkart/AMHARIC/test/wav/01_d501022.wav',\n",
       " '/mnt/10ac-batch-4/all-data/benkart/AMHARIC/test/wav/01_d501023.wav',\n",
       " '/mnt/10ac-batch-4/all-data/benkart/AMHARIC/test/wav/01_d501024.wav',\n",
       " '/mnt/10ac-batch-4/all-data/benkart/AMHARIC/test/wav/01_d501025.wav',\n",
       " '/mnt/10ac-batch-4/all-data/benkart/AMHARIC/test/wav/01_d501026.wav',\n",
       " '/mnt/10ac-batch-4/all-data/benkart/AMHARIC/test/wav/01_d501027.wav',\n",
       " '/mnt/10ac-batch-4/all-data/benkart/AMHARIC/test/wav/01_d501028.wav',\n",
       " '/mnt/10ac-batch-4/all-data/benkart/AMHARIC/test/wav/01_d501029.wav',\n",
       " '/mnt/10ac-batch-4/all-data/benkart/AMHARIC/test/wav/01_d501030.wav']"
      ]
     },
     "execution_count": 83,
     "metadata": {},
     "output_type": "execute_result"
    }
   ],
   "source": [
    "DATASET_PATH = \"/mnt/10ac-batch-4/all-data/benkart/AMHARIC/test/\"\n",
    "\n",
    "PATH = load_data(DATASET_PATH)\n",
    "PATH"
   ]
  },
  {
   "cell_type": "code",
   "execution_count": 64,
   "id": "ff0d100e-0390-4124-ab12-c5bd92a36874",
   "metadata": {},
   "outputs": [],
   "source": [
    "# NORMALISER FUNCTION\n",
    "# import wave\n",
    "# import numpy\n",
    "\n",
    "# # Read file to get buffer                                                                                               \n",
    "# ifile = wave.open( '/mnt/10ac-batch-4/all-data/benkart/AMHARIC/test/wav/01_d501027.wav')\n",
    "# samples = ifile.getnframes()\n",
    "# audio = ifile.readframes(samples)\n",
    "\n",
    "# # Convert buffer to float32 using NumPy                                                                                 \n",
    "# audio_as_np_int16 = numpy.frombuffer(audio, dtype=numpy.int16)\n",
    "# audio_as_np_float32 = audio_as_np_int16.astype(numpy.float32)\n",
    "\n",
    "# # Normalise float32 array so that values are between -1.0 and +1.0                                                      \n",
    "# max_int16 = 2**15\n",
    "# audio_normalised = audio_as_np_float32 / max_int16"
   ]
  },
  {
   "cell_type": "code",
   "execution_count": 19,
   "id": "7cb41130-4814-49a0-bbb7-b1d3df71c272",
   "metadata": {},
   "outputs": [
    {
     "data": {
      "text/plain": [
       "array([-1884., -1872., -1884., ..., -1896., -1872., -1884.], dtype=float32)"
      ]
     },
     "execution_count": 65,
     "metadata": {},
     "output_type": "execute_result"
    }
   ],
   "source": [
    "a"
   ]
  },
  {
   "cell_type": "code",
   "execution_count": 75,
   "id": "aadcd341-f37d-4258-aa30-f442c47f9326",
   "metadata": {},
   "outputs": [
    {
     "name": "stdout",
     "output_type": "stream",
     "text": [
      "/mnt/10ac-batch-4/all-data/benkart/AMHARIC/test/wav/01_d501021.wav\n",
      "/mnt/10ac-batch-4/all-data/benkart/AMHARIC/test/wav/01_d501022.wav\n",
      "/mnt/10ac-batch-4/all-data/benkart/AMHARIC/test/wav/01_d501023.wav\n",
      "/mnt/10ac-batch-4/all-data/benkart/AMHARIC/test/wav/01_d501024.wav\n",
      "/mnt/10ac-batch-4/all-data/benkart/AMHARIC/test/wav/01_d501025.wav\n",
      "/mnt/10ac-batch-4/all-data/benkart/AMHARIC/test/wav/01_d501026.wav\n",
      "/mnt/10ac-batch-4/all-data/benkart/AMHARIC/test/wav/01_d501027.wav\n",
      "/mnt/10ac-batch-4/all-data/benkart/AMHARIC/test/wav/01_d501028.wav\n",
      "/mnt/10ac-batch-4/all-data/benkart/AMHARIC/test/wav/01_d501029.wav\n",
      "/mnt/10ac-batch-4/all-data/benkart/AMHARIC/test/wav/01_d501030.wav\n"
     ]
    }
   ],
   "source": [
    "import glob\n",
    "from scipy.io.wavfile import read\n",
    "\n",
    "wavs = []\n",
    "for filename in glob.glob(\"/mnt/10ac-batch-4/all-data/benkart/AMHARIC/test/wav/*.wav\"):\n",
    "    print(filename)\n",
    "    wavs.append(read(filename))"
   ]
  },
  {
   "cell_type": "code",
   "execution_count": 81,
   "id": "5ae5ef81-e60d-4e5c-b4fe-9075dbe66119",
   "metadata": {},
   "outputs": [
    {
     "data": {
      "text/plain": [
       "[(16000, array([-2136, -2136, -2100, ..., -2676, -2688, -2760], dtype=int16)),\n",
       " (16000, array([-3380, -3280, -3360, ..., -2900, -2880, -2920], dtype=int16)),\n",
       " (16000, array([-2160, -2124, -2124, ..., -2028, -2064, -2076], dtype=int16)),\n",
       " (16000, array([    0,     0,     0, ..., -2064, -2040, -2040], dtype=int16)),\n",
       " (16000, array([    0,     0,     0, ..., -1788, -1812, -1824], dtype=int16)),\n",
       " (16000, array([-2256, -2280, -2280, ..., -2196, -2220, -2196], dtype=int16)),\n",
       " (16000, array([-1884, -1872, -1884, ..., -1896, -1872, -1884], dtype=int16)),\n",
       " (48000, array([], dtype=int16)),\n",
       " (16000, array([-2052, -2016, -2124, ..., -1704, -1680, -1668], dtype=int16)),\n",
       " (16000, array([-1716, -1692, -1704, ..., -1812, -1800, -1872], dtype=int16))]"
      ]
     },
     "execution_count": 81,
     "metadata": {},
     "output_type": "execute_result"
    }
   ],
   "source": [
    "wavs"
   ]
  },
  {
   "cell_type": "code",
   "execution_count": 84,
   "id": "f29059d2-6b2a-440b-8783-f085bf22dfc4",
   "metadata": {},
   "outputs": [],
   "source": [
    "d = {'PATH':PATH,'NDARRAY':wavs}\n"
   ]
  },
  {
   "cell_type": "code",
   "execution_count": 85,
   "id": "cb06bad8-ee2c-42ad-9665-9c1795ab917c",
   "metadata": {},
   "outputs": [
    {
     "data": {
      "text/plain": [
       "{'PATH': ['/mnt/10ac-batch-4/all-data/benkart/AMHARIC/test/wav/01_d501021.wav',\n",
       "  '/mnt/10ac-batch-4/all-data/benkart/AMHARIC/test/wav/01_d501022.wav',\n",
       "  '/mnt/10ac-batch-4/all-data/benkart/AMHARIC/test/wav/01_d501023.wav',\n",
       "  '/mnt/10ac-batch-4/all-data/benkart/AMHARIC/test/wav/01_d501024.wav',\n",
       "  '/mnt/10ac-batch-4/all-data/benkart/AMHARIC/test/wav/01_d501025.wav',\n",
       "  '/mnt/10ac-batch-4/all-data/benkart/AMHARIC/test/wav/01_d501026.wav',\n",
       "  '/mnt/10ac-batch-4/all-data/benkart/AMHARIC/test/wav/01_d501027.wav',\n",
       "  '/mnt/10ac-batch-4/all-data/benkart/AMHARIC/test/wav/01_d501028.wav',\n",
       "  '/mnt/10ac-batch-4/all-data/benkart/AMHARIC/test/wav/01_d501029.wav',\n",
       "  '/mnt/10ac-batch-4/all-data/benkart/AMHARIC/test/wav/01_d501030.wav'],\n",
       " 'NDARRAY': [(16000,\n",
       "   array([-2136, -2136, -2100, ..., -2676, -2688, -2760], dtype=int16)),\n",
       "  (16000, array([-3380, -3280, -3360, ..., -2900, -2880, -2920], dtype=int16)),\n",
       "  (16000, array([-2160, -2124, -2124, ..., -2028, -2064, -2076], dtype=int16)),\n",
       "  (16000, array([    0,     0,     0, ..., -2064, -2040, -2040], dtype=int16)),\n",
       "  (16000, array([    0,     0,     0, ..., -1788, -1812, -1824], dtype=int16)),\n",
       "  (16000, array([-2256, -2280, -2280, ..., -2196, -2220, -2196], dtype=int16)),\n",
       "  (16000, array([-1884, -1872, -1884, ..., -1896, -1872, -1884], dtype=int16)),\n",
       "  (48000, array([], dtype=int16)),\n",
       "  (16000, array([-2052, -2016, -2124, ..., -1704, -1680, -1668], dtype=int16)),\n",
       "  (16000,\n",
       "   array([-1716, -1692, -1704, ..., -1812, -1800, -1872], dtype=int16))]}"
      ]
     },
     "execution_count": 85,
     "metadata": {},
     "output_type": "execute_result"
    }
   ],
   "source": [
    "d"
   ]
  },
  {
   "cell_type": "code",
   "execution_count": 87,
   "id": "6f92df1f-03d0-469a-97aa-0fea4b57f45d",
   "metadata": {},
   "outputs": [],
   "source": [
    "import pandas as pd\n",
    "df = pd.DataFrame(d)\n"
   ]
  },
  {
   "cell_type": "code",
   "execution_count": 88,
   "id": "4c6bcf55-008f-4efe-8416-45b2c637b35e",
   "metadata": {},
   "outputs": [
    {
     "data": {
      "text/html": [
       "<div>\n",
       "<style scoped>\n",
       "    .dataframe tbody tr th:only-of-type {\n",
       "        vertical-align: middle;\n",
       "    }\n",
       "\n",
       "    .dataframe tbody tr th {\n",
       "        vertical-align: top;\n",
       "    }\n",
       "\n",
       "    .dataframe thead th {\n",
       "        text-align: right;\n",
       "    }\n",
       "</style>\n",
       "<table border=\"1\" class=\"dataframe\">\n",
       "  <thead>\n",
       "    <tr style=\"text-align: right;\">\n",
       "      <th></th>\n",
       "      <th>PATH</th>\n",
       "      <th>NDARRAY</th>\n",
       "    </tr>\n",
       "  </thead>\n",
       "  <tbody>\n",
       "    <tr>\n",
       "      <th>0</th>\n",
       "      <td>/mnt/10ac-batch-4/all-data/benkart/AMHARIC/tes...</td>\n",
       "      <td>(16000, [-2136, -2136, -2100, -2124, -2076, -2...</td>\n",
       "    </tr>\n",
       "    <tr>\n",
       "      <th>1</th>\n",
       "      <td>/mnt/10ac-batch-4/all-data/benkart/AMHARIC/tes...</td>\n",
       "      <td>(16000, [-3380, -3280, -3360, -3320, -3320, -3...</td>\n",
       "    </tr>\n",
       "    <tr>\n",
       "      <th>2</th>\n",
       "      <td>/mnt/10ac-batch-4/all-data/benkart/AMHARIC/tes...</td>\n",
       "      <td>(16000, [-2160, -2124, -2124, -2148, -2124, -2...</td>\n",
       "    </tr>\n",
       "    <tr>\n",
       "      <th>3</th>\n",
       "      <td>/mnt/10ac-batch-4/all-data/benkart/AMHARIC/tes...</td>\n",
       "      <td>(16000, [0, 0, 0, 0, 0, 0, 0, 0, 0, 0, 0, 0, 0...</td>\n",
       "    </tr>\n",
       "    <tr>\n",
       "      <th>4</th>\n",
       "      <td>/mnt/10ac-batch-4/all-data/benkart/AMHARIC/tes...</td>\n",
       "      <td>(16000, [0, 0, 0, 0, 0, 0, 0, 0, 0, 0, 0, 0, 0...</td>\n",
       "    </tr>\n",
       "    <tr>\n",
       "      <th>5</th>\n",
       "      <td>/mnt/10ac-batch-4/all-data/benkart/AMHARIC/tes...</td>\n",
       "      <td>(16000, [-2256, -2280, -2280, -2244, -2220, -2...</td>\n",
       "    </tr>\n",
       "    <tr>\n",
       "      <th>6</th>\n",
       "      <td>/mnt/10ac-batch-4/all-data/benkart/AMHARIC/tes...</td>\n",
       "      <td>(16000, [-1884, -1872, -1884, -1884, -1848, -1...</td>\n",
       "    </tr>\n",
       "    <tr>\n",
       "      <th>7</th>\n",
       "      <td>/mnt/10ac-batch-4/all-data/benkart/AMHARIC/tes...</td>\n",
       "      <td>(48000, [])</td>\n",
       "    </tr>\n",
       "    <tr>\n",
       "      <th>8</th>\n",
       "      <td>/mnt/10ac-batch-4/all-data/benkart/AMHARIC/tes...</td>\n",
       "      <td>(16000, [-2052, -2016, -2124, -2076, -2004, -2...</td>\n",
       "    </tr>\n",
       "    <tr>\n",
       "      <th>9</th>\n",
       "      <td>/mnt/10ac-batch-4/all-data/benkart/AMHARIC/tes...</td>\n",
       "      <td>(16000, [-1716, -1692, -1704, -1716, -1704, -1...</td>\n",
       "    </tr>\n",
       "  </tbody>\n",
       "</table>\n",
       "</div>"
      ],
      "text/plain": [
       "                                                PATH  \\\n",
       "0  /mnt/10ac-batch-4/all-data/benkart/AMHARIC/tes...   \n",
       "1  /mnt/10ac-batch-4/all-data/benkart/AMHARIC/tes...   \n",
       "2  /mnt/10ac-batch-4/all-data/benkart/AMHARIC/tes...   \n",
       "3  /mnt/10ac-batch-4/all-data/benkart/AMHARIC/tes...   \n",
       "4  /mnt/10ac-batch-4/all-data/benkart/AMHARIC/tes...   \n",
       "5  /mnt/10ac-batch-4/all-data/benkart/AMHARIC/tes...   \n",
       "6  /mnt/10ac-batch-4/all-data/benkart/AMHARIC/tes...   \n",
       "7  /mnt/10ac-batch-4/all-data/benkart/AMHARIC/tes...   \n",
       "8  /mnt/10ac-batch-4/all-data/benkart/AMHARIC/tes...   \n",
       "9  /mnt/10ac-batch-4/all-data/benkart/AMHARIC/tes...   \n",
       "\n",
       "                                             NDARRAY  \n",
       "0  (16000, [-2136, -2136, -2100, -2124, -2076, -2...  \n",
       "1  (16000, [-3380, -3280, -3360, -3320, -3320, -3...  \n",
       "2  (16000, [-2160, -2124, -2124, -2148, -2124, -2...  \n",
       "3  (16000, [0, 0, 0, 0, 0, 0, 0, 0, 0, 0, 0, 0, 0...  \n",
       "4  (16000, [0, 0, 0, 0, 0, 0, 0, 0, 0, 0, 0, 0, 0...  \n",
       "5  (16000, [-2256, -2280, -2280, -2244, -2220, -2...  \n",
       "6  (16000, [-1884, -1872, -1884, -1884, -1848, -1...  \n",
       "7                                        (48000, [])  \n",
       "8  (16000, [-2052, -2016, -2124, -2076, -2004, -2...  \n",
       "9  (16000, [-1716, -1692, -1704, -1716, -1704, -1...  "
      ]
     },
     "execution_count": 88,
     "metadata": {},
     "output_type": "execute_result"
    }
   ],
   "source": [
    "df"
   ]
  },
  {
   "cell_type": "code",
   "execution_count": 92,
   "id": "32f75bff-8103-46d2-8475-afc8cf720c23",
   "metadata": {},
   "outputs": [],
   "source": [
    "df.to_csv('ndarray.csv')\n"
   ]
  },
  {
   "cell_type": "code",
   "execution_count": 93,
   "id": "8d1d98ac-22c1-4c70-9444-740877eceaa5",
   "metadata": {},
   "outputs": [
    {
     "data": {
      "text/plain": [
       "True"
      ]
     },
     "execution_count": 93,
     "metadata": {},
     "output_type": "execute_result"
    }
   ],
   "source": [
    "upload_file('ndarray.csv', 'benkart-bucket')\n"
   ]
  },
  {
   "cell_type": "code",
   "execution_count": null,
   "id": "bf785d08-a6c5-4a9f-a79b-db29a79f48c8",
   "metadata": {},
   "outputs": [],
   "source": []
  }
 ],
 "metadata": {
  "kernelspec": {
   "display_name": "Python [conda env:root] *",
   "language": "python",
   "name": "conda-root-py"
  },
  "language_info": {
   "codemirror_mode": {
    "name": "ipython",
    "version": 3
   },
   "file_extension": ".py",
   "mimetype": "text/x-python",
   "name": "python",
   "nbconvert_exporter": "python",
   "pygments_lexer": "ipython3",
   "version": "3.9.5"
  }
 },
 "nbformat": 4,
 "nbformat_minor": 5
}
